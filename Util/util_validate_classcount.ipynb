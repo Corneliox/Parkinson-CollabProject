{
 "cells": [
  {
   "cell_type": "code",
   "execution_count": 2,
   "id": "2d2d3829",
   "metadata": {},
   "outputs": [
    {
     "name": "stdout",
     "output_type": "stream",
     "text": [
      "Class counts:\n",
      "Class 1: 2367 instances\n",
      "Class 0: 2298 instances\n",
      "Class 2: 2436 instances\n",
      "Class 3: 2330 instances\n"
     ]
    }
   ],
   "source": [
    "import os\n",
    "from collections import defaultdict\n",
    "\n",
    "image_dir = r\"C:\\Users\\Pongo\\OneDrive\\Documents\\~Cornel\\~Ideas n Innovation\\Project\\25-4-22 -- Parkinson Unika\\Dataset\\YOLODatasetFull\\images\\train\"\n",
    "label_dir = r\"C:\\Users\\Pongo\\OneDrive\\Documents\\~Cornel\\~Ideas n Innovation\\Project\\25-4-22 -- Parkinson Unika\\Dataset\\YOLODatasetFull\\labels\\train\"\n",
    "\n",
    "class_counts = defaultdict(int)\n",
    "label_files = [f for f in os.listdir(label_dir) if f.endswith('.txt')]\n",
    "for lf in label_files:\n",
    "    with open(os.path.join(label_dir, lf), 'r') as f:\n",
    "        for line in f:\n",
    "            class_id = line.strip().split()[0]\n",
    "            class_counts[class_id] += 1\n",
    "            \n",
    "print(\"Class counts:\")\n",
    "for class_id, count in class_counts.items():\n",
    "    print(f\"Class {class_id}: {count} instances\")"
   ]
  },
  {
   "cell_type": "code",
   "execution_count": 3,
   "id": "fab2caf0",
   "metadata": {},
   "outputs": [
    {
     "name": "stdout",
     "output_type": "stream",
     "text": [
      "Class counts:\n",
      "Class 0: 574 instances\n",
      "Class 1: 591 instances\n",
      "Class 2: 608 instances\n",
      "Class 3: 582 instances\n"
     ]
    }
   ],
   "source": [
    "import os\n",
    "from collections import defaultdict\n",
    "\n",
    "image_dir = r\"C:\\Users\\Pongo\\OneDrive\\Documents\\~Cornel\\~Ideas n Innovation\\Project\\25-4-22 -- Parkinson Unika\\Dataset\\YOLODatasetFull\\images\\val\"\n",
    "label_dir = r\"C:\\Users\\Pongo\\OneDrive\\Documents\\~Cornel\\~Ideas n Innovation\\Project\\25-4-22 -- Parkinson Unika\\Dataset\\YOLODatasetFull\\labels\\val\"\n",
    "\n",
    "class_counts = defaultdict(int)\n",
    "label_files = [f for f in os.listdir(label_dir) if f.endswith('.txt')]\n",
    "for lf in label_files:\n",
    "    with open(os.path.join(label_dir, lf), 'r') as f:\n",
    "        for line in f:\n",
    "            class_id = line.strip().split()[0]\n",
    "            class_counts[class_id] += 1\n",
    "            \n",
    "print(\"Class counts:\")\n",
    "for class_id, count in class_counts.items():\n",
    "    print(f\"Class {class_id}: {count} instances\")"
   ]
  }
 ],
 "metadata": {
  "kernelspec": {
   "display_name": "Python 3",
   "language": "python",
   "name": "python3"
  },
  "language_info": {
   "codemirror_mode": {
    "name": "ipython",
    "version": 3
   },
   "file_extension": ".py",
   "mimetype": "text/x-python",
   "name": "python",
   "nbconvert_exporter": "python",
   "pygments_lexer": "ipython3",
   "version": "3.12.1"
  }
 },
 "nbformat": 4,
 "nbformat_minor": 5
}
