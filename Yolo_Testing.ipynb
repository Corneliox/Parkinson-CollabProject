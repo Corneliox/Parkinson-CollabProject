{
  "cells": [
    {
      "cell_type": "markdown",
      "metadata": {
        "id": "vD_O2xpN_jmL"
      },
      "source": [
        "Summary of available models:\n",
        "\n",
        "- yolov8n (Done)\n",
        "- yolov8s (Done)\n",
        "- yolov8m (Done)\n",
        "- yolov8l (Done)\n",
        "- yolov8x (Done)\n",
        "- yolov5n (Done)\n",
        "- yolov5s (Done)\n",
        "- yolov5m (Done)\n",
        "- yolov5l (Done)\n",
        "- yolov5x (done)\n",
        "- yolov3 (Done)\n",
        "- yolov3u (Done)\n",
        "- yolov3-spp (Done)\n",
        "- yolov3-tiny (Done)\n",
        "\n",
        "For More Epoch :\n",
        "- yolov3u (100) (Done)\n",
        "- yolov5x (100) (Failed (No Runtime exceed limit)) - Res 75\n",
        "- yolov8x (100) (No Computing Unit available) - Res 75"
      ]
    },
    {
      "cell_type": "code",
      "execution_count": 6,
      "metadata": {
        "colab": {
          "base_uri": "https://localhost:8080/"
        },
        "id": "8PFm9AcKqe8Y",
        "outputId": "0e409d8b-7b1d-4c3d-ca87-f7b1177fcfc6"
      },
      "outputs": [
        {
          "name": "stdout",
          "output_type": "stream",
          "text": [
            "YAML Path: ./Dataset\\YOLODatasetFull\\dataset.yaml\n",
            "Results Directory: ./results\n"
          ]
        }
      ],
      "source": [
        "import os\n",
        "\n",
        "# Define paths for local environment\n",
        "local_base_path = \"./\"  # Current directory\n",
        "yaml_path = os.path.join(local_base_path, \"Dataset\", \"YOLODatasetFull\", \"dataset.yaml\")  # Path to your YAML file\n",
        "results_dir = os.path.join(local_base_path, \"results\")       # Directory to save results\n",
        "os.makedirs(results_dir, exist_ok=True)\n",
        "\n",
        "# Print the paths to confirm\n",
        "print(f\"YAML Path: {yaml_path}\")\n",
        "print(f\"Results Directory: {results_dir}\")\n",
        "\n",
        "# **Important Considerations:**\n",
        "\n",
        "# 1.  **Dataset Location:**\n",
        "#     * Ensure that your dataset is located in the  `./Dataset/YOLODatasetFull`  directory, relative to where you run this Python script.  If your dataset is in a different location, you'll need to adjust the  `local_base_path`  or  `yaml_path`  variables accordingly.\n",
        "#     * The script assumes your `dataset.yaml` is inside the `YOLODatasetFull` folder.\n",
        "#\n",
        "# 2.  **YAML File Content:**\n",
        "#     * The `dataset.yaml` file should contain the correct paths to your training and validation data.  If these paths are absolute paths (e.g.,  `/content/drive/...`), you'll need to change them to relative paths that are valid in your local environment.\n",
        "#\n",
        "# 3. **results directory:**\n",
        "#     * The results directory is now created at the root level of your project\n",
        "\n",
        "# Example `dataset.yaml` structure (check and modify as needed):\n",
        "# ```yaml\n",
        "# train: ./Dataset/YOLODatasetFull/train/images\n",
        "# val: ./Dataset/YOLODatasetFull/valid/images\n",
        "# test: ./Dataset/YOLODatasetFull/test/images  # If you have a test set\n",
        "# nc: 80  # Number of classes\n",
        "# names: ['class1', 'class2', ..., 'class80']  # Class names\n",
        "# ```\n"
      ]
    },
    {
      "cell_type": "code",
      "execution_count": 7,
      "metadata": {
        "colab": {
          "base_uri": "https://localhost:8080/"
        },
        "id": "IloKysuTpqwA",
        "outputId": "1d542cc7-567c-4b5d-ca01-6f456ff52c13"
      },
      "outputs": [],
      "source": [
        "import os\n",
        "from ultralytics import YOLO\n",
        "from tqdm import tqdm\n",
        "from datetime import datetime\n",
        "import time\n",
        "\n",
        "# Paths\n",
        "local_base_path = \"./\"  # Current directory\n",
        "yaml_path = os.path.join(local_base_path, \"Dataset\", \"YOLODatasetFull\", \"dataset.yaml\")\n",
        "results_dir = os.path.join(local_base_path, \"results\")\n",
        "os.makedirs(results_dir, exist_ok=True)\n",
        "\n",
        "#epoch = 12\n",
        "#epoch = 100\n",
        "# epoch = 75\n",
        "epoch = 50\n",
        "\n",
        "# imagesize = 640\n",
        "imagesize = 512\n",
        "\n",
        "# batchs = 20 # Maximum For Yolo v3 (14,8 GB Peak)\n",
        "# batchs = 16 # Maximum For Yolo v5x (14,8 GB Peak)"
      ]
    },
    {
      "cell_type": "markdown",
      "metadata": {
        "id": "GFUjvfog0hNE"
      },
      "source": [
        "# YOLOv\n",
        "\n"
      ]
    },
    {
      "cell_type": "code",
      "execution_count": 8,
      "metadata": {
        "colab": {
          "base_uri": "https://localhost:8080/"
        },
        "id": "nLQw6mwFrCJo",
        "outputId": "ea0c28d0-bb6c-4e25-dc1d-22250e2cb798"
      },
      "outputs": [
        {
          "name": "stdout",
          "output_type": "stream",
          "text": [
            "\n",
            "Training and evaluating YOLO12l...\n",
            "Ultralytics 8.3.123  Python-3.12.1 torch-2.5.0+cu124 CUDA:0 (NVIDIA GeForce RTX 2050, 4096MiB)\n",
            "\u001b[34m\u001b[1mengine\\trainer: \u001b[0mtask=detect, mode=train, model=yolo12l.pt, data=./Dataset\\YOLODatasetFull\\dataset.yaml, epochs=50, time=None, patience=100, batch=8, imgsz=512, save=True, save_period=-1, cache=False, device=None, workers=8, project=None, name=YOLO12l_detection, exist_ok=False, pretrained=True, optimizer=auto, verbose=True, seed=0, deterministic=True, single_cls=False, rect=False, cos_lr=False, close_mosaic=10, resume=False, amp=True, fraction=1.0, profile=False, freeze=None, multi_scale=False, overlap_mask=True, mask_ratio=4, dropout=0.0, val=True, split=val, save_json=False, conf=None, iou=0.7, max_det=300, half=False, dnn=False, plots=True, source=None, vid_stride=1, stream_buffer=False, visualize=False, augment=False, agnostic_nms=False, classes=None, retina_masks=False, embed=None, show=False, save_frames=False, save_txt=False, save_conf=False, save_crop=False, show_labels=True, show_conf=True, show_boxes=True, line_width=None, format=torchscript, keras=False, optimize=False, int8=False, dynamic=False, simplify=True, opset=None, workspace=None, nms=False, lr0=0.01, lrf=0.01, momentum=0.937, weight_decay=0.0005, warmup_epochs=3.0, warmup_momentum=0.8, warmup_bias_lr=0.1, box=7.5, cls=0.5, dfl=1.5, pose=12.0, kobj=1.0, nbs=64, hsv_h=0.015, hsv_s=0.7, hsv_v=0.4, degrees=0.0, translate=0.1, scale=0.5, shear=0.0, perspective=0.0, flipud=0.0, fliplr=0.5, bgr=0.0, mosaic=1.0, mixup=0.0, cutmix=0.0, copy_paste=0.0, copy_paste_mode=flip, auto_augment=randaugment, erasing=0.4, cfg=None, tracker=botsort.yaml, save_dir=runs\\detect\\YOLO12l_detection\n",
            "Overriding model.yaml nc=80 with nc=4\n",
            "\n",
            "                   from  n    params  module                                       arguments                     \n",
            "  0                  -1  1      1856  ultralytics.nn.modules.conv.Conv             [3, 64, 3, 2]                 \n",
            "  1                  -1  1     73984  ultralytics.nn.modules.conv.Conv             [64, 128, 3, 2]               \n",
            "  2                  -1  2    173824  ultralytics.nn.modules.block.C3k2            [128, 256, 2, True, 0.25]     \n",
            "  3                  -1  1    590336  ultralytics.nn.modules.conv.Conv             [256, 256, 3, 2]              \n",
            "  4                  -1  2    691712  ultralytics.nn.modules.block.C3k2            [256, 512, 2, True, 0.25]     \n",
            "  5                  -1  1   2360320  ultralytics.nn.modules.conv.Conv             [512, 512, 3, 2]              \n",
            "  6                  -1  4   4272944  ultralytics.nn.modules.block.A2C2f           [512, 512, 4, True, 4, True, 1.2]\n",
            "  7                  -1  1   2360320  ultralytics.nn.modules.conv.Conv             [512, 512, 3, 2]              \n",
            "  8                  -1  4   4272944  ultralytics.nn.modules.block.A2C2f           [512, 512, 4, True, 1, True, 1.2]\n",
            "  9                  -1  1         0  torch.nn.modules.upsampling.Upsample         [None, 2, 'nearest']          \n",
            " 10             [-1, 6]  1         0  ultralytics.nn.modules.conv.Concat           [1]                           \n",
            " 11                  -1  2   2102784  ultralytics.nn.modules.block.A2C2f           [1024, 512, 2, False, -1, True, 1.2]\n",
            " 12                  -1  1         0  torch.nn.modules.upsampling.Upsample         [None, 2, 'nearest']          \n",
            " 13             [-1, 4]  1         0  ultralytics.nn.modules.conv.Concat           [1]                           \n",
            " 14                  -1  2    592640  ultralytics.nn.modules.block.A2C2f           [1024, 256, 2, False, -1, True, 1.2]\n",
            " 15                  -1  1    590336  ultralytics.nn.modules.conv.Conv             [256, 256, 3, 2]              \n",
            " 16            [-1, 11]  1         0  ultralytics.nn.modules.conv.Concat           [1]                           \n",
            " 17                  -1  2   2037248  ultralytics.nn.modules.block.A2C2f           [768, 512, 2, False, -1, True, 1.2]\n",
            " 18                  -1  1   2360320  ultralytics.nn.modules.conv.Conv             [512, 512, 3, 2]              \n",
            " 19             [-1, 8]  1         0  ultralytics.nn.modules.conv.Concat           [1]                           \n",
            " 20                  -1  2   2496512  ultralytics.nn.modules.block.C3k2            [1024, 512, 2, True]          \n",
            " 21        [14, 17, 20]  1   1414108  ultralytics.nn.modules.head.Detect           [4, [256, 512, 512]]          \n",
            "YOLOv12l summary: 488 layers, 26,392,188 parameters, 26,392,172 gradients, 89.4 GFLOPs\n",
            "\n",
            "Transferred 1239/1245 items from pretrained weights\n",
            "\u001b[34m\u001b[1mTensorBoard: \u001b[0mStart with 'tensorboard --logdir runs\\detect\\YOLO12l_detection', view at http://localhost:6006/\n",
            "Freezing layer 'model.21.dfl.conv.weight'\n",
            "\u001b[34m\u001b[1mAMP: \u001b[0mrunning Automatic Mixed Precision (AMP) checks...\n",
            "\u001b[34m\u001b[1mAMP: \u001b[0mchecks passed \n",
            "\u001b[34m\u001b[1mtrain: \u001b[0mFast image access  (ping: 0.10.0 ms, read: 356.770.9 MB/s, size: 270.3 KB)\n"
          ]
        },
        {
          "name": "stderr",
          "output_type": "stream",
          "text": [
            "\u001b[34m\u001b[1mtrain: \u001b[0mScanning C:\\Users\\Pongo\\OneDrive\\Documents\\~Cornel\\~Ideas n Innovation\\Project\\25-4-22 -- Parkinson Unika\\Dataset\\YOLODatasetFull\\labels\\train.cache... 2985 images, 0 backgrounds, 0 corrupt: 100%|██████████| 2985/2985 [00:00<?, ?it/s]\n"
          ]
        },
        {
          "name": "stdout",
          "output_type": "stream",
          "text": [
            "\u001b[34m\u001b[1mval: \u001b[0mFast image access  (ping: 0.20.0 ms, read: 195.295.6 MB/s, size: 183.3 KB)\n"
          ]
        },
        {
          "name": "stderr",
          "output_type": "stream",
          "text": [
            "\u001b[34m\u001b[1mval: \u001b[0mScanning C:\\Users\\Pongo\\OneDrive\\Documents\\~Cornel\\~Ideas n Innovation\\Project\\25-4-22 -- Parkinson Unika\\Dataset\\YOLODatasetFull\\labels\\val.cache... 747 images, 0 backgrounds, 0 corrupt: 100%|██████████| 747/747 [00:00<?, ?it/s]\n"
          ]
        },
        {
          "name": "stdout",
          "output_type": "stream",
          "text": [
            "Plotting labels to runs\\detect\\YOLO12l_detection\\labels.jpg... \n",
            "\u001b[34m\u001b[1moptimizer:\u001b[0m 'optimizer=auto' found, ignoring 'lr0=0.01' and 'momentum=0.937' and determining best 'optimizer', 'lr0' and 'momentum' automatically... \n",
            "\u001b[34m\u001b[1moptimizer:\u001b[0m AdamW(lr=0.00125, momentum=0.9) with parameter groups 205 weight(decay=0.0), 214 weight(decay=0.0005), 211 bias(decay=0.0)\n",
            "\u001b[34m\u001b[1mTensorBoard: \u001b[0mmodel graph visualization added \n",
            "Image sizes 512 train, 512 val\n",
            "Using 8 dataloader workers\n",
            "Logging results to \u001b[1mruns\\detect\\YOLO12l_detection\u001b[0m\n",
            "Starting training for 50 epochs...\n",
            "\n",
            "      Epoch    GPU_mem   box_loss   cls_loss   dfl_loss  Instances       Size\n"
          ]
        },
        {
          "name": "stderr",
          "output_type": "stream",
          "text": [
            "       1/50      4.97G     0.4253       1.29      1.112          4        512: 100%|██████████| 374/374 [30:56<00:00,  4.96s/it]\n",
            "                 Class     Images  Instances      Box(P          R      mAP50  mAP50-95): 100%|██████████| 47/47 [01:08<00:00,  1.46s/it]"
          ]
        },
        {
          "name": "stdout",
          "output_type": "stream",
          "text": [
            "                   all        747        747      0.103      0.691      0.144     0.0492\n"
          ]
        },
        {
          "name": "stderr",
          "output_type": "stream",
          "text": [
            "\n"
          ]
        },
        {
          "name": "stdout",
          "output_type": "stream",
          "text": [
            "\n",
            "      Epoch    GPU_mem   box_loss   cls_loss   dfl_loss  Instances       Size\n"
          ]
        },
        {
          "name": "stderr",
          "output_type": "stream",
          "text": [
            "       2/50      5.04G     0.3787      1.085      1.043          4        512: 100%|██████████| 374/374 [29:32<00:00,  4.74s/it]\n",
            "                 Class     Images  Instances      Box(P          R      mAP50  mAP50-95): 100%|██████████| 47/47 [02:25<00:00,  3.10s/it]"
          ]
        },
        {
          "name": "stdout",
          "output_type": "stream",
          "text": [
            "                   all        747        747       0.45      0.877      0.567      0.528\n"
          ]
        },
        {
          "name": "stderr",
          "output_type": "stream",
          "text": [
            "\n"
          ]
        },
        {
          "name": "stdout",
          "output_type": "stream",
          "text": [
            "\n",
            "      Epoch    GPU_mem   box_loss   cls_loss   dfl_loss  Instances       Size\n"
          ]
        },
        {
          "name": "stderr",
          "output_type": "stream",
          "text": [
            "       3/50      5.03G     0.3494      1.007      1.021          2        512: 100%|██████████| 374/374 [28:42<00:00,  4.61s/it]\n",
            "                 Class     Images  Instances      Box(P          R      mAP50  mAP50-95): 100%|██████████| 47/47 [02:22<00:00,  3.03s/it]"
          ]
        },
        {
          "name": "stdout",
          "output_type": "stream",
          "text": [
            "                   all        747        747      0.499       0.94      0.669      0.592\n"
          ]
        },
        {
          "name": "stderr",
          "output_type": "stream",
          "text": [
            "\n"
          ]
        },
        {
          "name": "stdout",
          "output_type": "stream",
          "text": [
            "\n",
            "      Epoch    GPU_mem   box_loss   cls_loss   dfl_loss  Instances       Size\n"
          ]
        },
        {
          "name": "stderr",
          "output_type": "stream",
          "text": [
            "       4/50      5.04G     0.2893     0.9431     0.9848          2        512: 100%|██████████| 374/374 [28:12<00:00,  4.52s/it]\n",
            "                 Class     Images  Instances      Box(P          R      mAP50  mAP50-95): 100%|██████████| 47/47 [02:27<00:00,  3.14s/it]"
          ]
        },
        {
          "name": "stdout",
          "output_type": "stream",
          "text": [
            "                   all        747        747      0.559      0.814      0.672       0.57\n"
          ]
        },
        {
          "name": "stderr",
          "output_type": "stream",
          "text": [
            "\n"
          ]
        },
        {
          "name": "stdout",
          "output_type": "stream",
          "text": [
            "\n",
            "      Epoch    GPU_mem   box_loss   cls_loss   dfl_loss  Instances       Size\n"
          ]
        },
        {
          "name": "stderr",
          "output_type": "stream",
          "text": [
            "       5/50      5.04G     0.2495     0.8934     0.9646          4        512: 100%|██████████| 374/374 [24:37<00:00,  3.95s/it]\n",
            "                 Class     Images  Instances      Box(P          R      mAP50  mAP50-95): 100%|██████████| 47/47 [01:27<00:00,  1.85s/it]"
          ]
        },
        {
          "name": "stdout",
          "output_type": "stream",
          "text": [
            "                   all        747        747      0.577      0.855      0.706      0.665\n"
          ]
        },
        {
          "name": "stderr",
          "output_type": "stream",
          "text": [
            "\n"
          ]
        },
        {
          "name": "stdout",
          "output_type": "stream",
          "text": [
            "\n",
            "      Epoch    GPU_mem   box_loss   cls_loss   dfl_loss  Instances       Size\n"
          ]
        },
        {
          "name": "stderr",
          "output_type": "stream",
          "text": [
            "       6/50      5.06G      0.227     0.8702     0.9539          2        512: 100%|██████████| 374/374 [23:56<00:00,  3.84s/it]\n",
            "                 Class     Images  Instances      Box(P          R      mAP50  mAP50-95): 100%|██████████| 47/47 [02:00<00:00,  2.56s/it]"
          ]
        },
        {
          "name": "stdout",
          "output_type": "stream",
          "text": [
            "                   all        747        747      0.468      0.932      0.625      0.555\n"
          ]
        },
        {
          "name": "stderr",
          "output_type": "stream",
          "text": [
            "\n"
          ]
        },
        {
          "name": "stdout",
          "output_type": "stream",
          "text": [
            "\n",
            "      Epoch    GPU_mem   box_loss   cls_loss   dfl_loss  Instances       Size\n"
          ]
        },
        {
          "name": "stderr",
          "output_type": "stream",
          "text": [
            "       7/50      4.99G     0.2378     0.8499     0.9629          2        512: 100%|██████████| 374/374 [21:39<00:00,  3.47s/it]\n",
            "                 Class     Images  Instances      Box(P          R      mAP50  mAP50-95): 100%|██████████| 47/47 [01:55<00:00,  2.45s/it]"
          ]
        },
        {
          "name": "stdout",
          "output_type": "stream",
          "text": [
            "                   all        747        747      0.572      0.891      0.737       0.71\n"
          ]
        },
        {
          "name": "stderr",
          "output_type": "stream",
          "text": [
            "\n"
          ]
        },
        {
          "name": "stdout",
          "output_type": "stream",
          "text": [
            "\n",
            "      Epoch    GPU_mem   box_loss   cls_loss   dfl_loss  Instances       Size\n"
          ]
        },
        {
          "name": "stderr",
          "output_type": "stream",
          "text": [
            "       8/50      5.03G     0.2063     0.8123     0.9533          1        512: 100%|██████████| 374/374 [23:35<00:00,  3.78s/it]\n",
            "                 Class     Images  Instances      Box(P          R      mAP50  mAP50-95): 100%|██████████| 47/47 [01:33<00:00,  1.99s/it]"
          ]
        },
        {
          "name": "stdout",
          "output_type": "stream",
          "text": [
            "                   all        747        747      0.638       0.84      0.735      0.707\n"
          ]
        },
        {
          "name": "stderr",
          "output_type": "stream",
          "text": [
            "\n"
          ]
        },
        {
          "name": "stdout",
          "output_type": "stream",
          "text": [
            "\n",
            "      Epoch    GPU_mem   box_loss   cls_loss   dfl_loss  Instances       Size\n"
          ]
        },
        {
          "name": "stderr",
          "output_type": "stream",
          "text": [
            "       9/50      5.04G     0.1874     0.7921      0.942          3        512: 100%|██████████| 374/374 [23:01<00:00,  3.69s/it]\n",
            "                 Class     Images  Instances      Box(P          R      mAP50  mAP50-95): 100%|██████████| 47/47 [01:24<00:00,  1.79s/it]"
          ]
        },
        {
          "name": "stdout",
          "output_type": "stream",
          "text": [
            "                   all        747        747      0.518      0.742       0.65      0.562\n"
          ]
        },
        {
          "name": "stderr",
          "output_type": "stream",
          "text": [
            "\n"
          ]
        },
        {
          "name": "stdout",
          "output_type": "stream",
          "text": [
            "\n",
            "      Epoch    GPU_mem   box_loss   cls_loss   dfl_loss  Instances       Size\n"
          ]
        },
        {
          "name": "stderr",
          "output_type": "stream",
          "text": [
            "      10/50      5.05G     0.1721     0.7679     0.9321          2        512: 100%|██████████| 374/374 [20:55<00:00,  3.36s/it]\n",
            "                 Class     Images  Instances      Box(P          R      mAP50  mAP50-95): 100%|██████████| 47/47 [02:01<00:00,  2.58s/it]"
          ]
        },
        {
          "name": "stdout",
          "output_type": "stream",
          "text": [
            "                   all        747        747      0.476      0.937      0.646      0.626\n"
          ]
        },
        {
          "name": "stderr",
          "output_type": "stream",
          "text": [
            "\n"
          ]
        },
        {
          "name": "stdout",
          "output_type": "stream",
          "text": [
            "\n",
            "      Epoch    GPU_mem   box_loss   cls_loss   dfl_loss  Instances       Size\n"
          ]
        },
        {
          "name": "stderr",
          "output_type": "stream",
          "text": [
            "      11/50      5.01G     0.1609      0.748     0.9284          4        512: 100%|██████████| 374/374 [19:09<00:00,  3.07s/it]\n",
            "                 Class     Images  Instances      Box(P          R      mAP50  mAP50-95): 100%|██████████| 47/47 [02:12<00:00,  2.81s/it]"
          ]
        },
        {
          "name": "stdout",
          "output_type": "stream",
          "text": [
            "                   all        747        747      0.699      0.817      0.762      0.718\n"
          ]
        },
        {
          "name": "stderr",
          "output_type": "stream",
          "text": [
            "\n"
          ]
        },
        {
          "name": "stdout",
          "output_type": "stream",
          "text": [
            "\n",
            "      Epoch    GPU_mem   box_loss   cls_loss   dfl_loss  Instances       Size\n"
          ]
        },
        {
          "name": "stderr",
          "output_type": "stream",
          "text": [
            "      12/50      5.05G     0.1443     0.7393     0.9226          2        512: 100%|██████████| 374/374 [25:57<00:00,  4.16s/it]\n",
            "                 Class     Images  Instances      Box(P          R      mAP50  mAP50-95): 100%|██████████| 47/47 [03:17<00:00,  4.20s/it]"
          ]
        },
        {
          "name": "stdout",
          "output_type": "stream",
          "text": [
            "                   all        747        747       0.66      0.847      0.779      0.756\n"
          ]
        },
        {
          "name": "stderr",
          "output_type": "stream",
          "text": [
            "\n"
          ]
        },
        {
          "name": "stdout",
          "output_type": "stream",
          "text": [
            "\n",
            "      Epoch    GPU_mem   box_loss   cls_loss   dfl_loss  Instances       Size\n"
          ]
        },
        {
          "name": "stderr",
          "output_type": "stream",
          "text": [
            "      13/50      5.05G     0.1476     0.7259     0.9224          4        512: 100%|██████████| 374/374 [25:54<00:00,  4.16s/it]\n",
            "                 Class     Images  Instances      Box(P          R      mAP50  mAP50-95): 100%|██████████| 47/47 [01:34<00:00,  2.00s/it]"
          ]
        },
        {
          "name": "stdout",
          "output_type": "stream",
          "text": [
            "                   all        747        747      0.626       0.86      0.781      0.753\n"
          ]
        },
        {
          "name": "stderr",
          "output_type": "stream",
          "text": [
            "\n"
          ]
        },
        {
          "name": "stdout",
          "output_type": "stream",
          "text": [
            "\n",
            "      Epoch    GPU_mem   box_loss   cls_loss   dfl_loss  Instances       Size\n"
          ]
        },
        {
          "name": "stderr",
          "output_type": "stream",
          "text": [
            "      14/50      5.04G     0.1388     0.7118     0.9137          1        512: 100%|██████████| 374/374 [23:36<00:00,  3.79s/it]\n",
            "                 Class     Images  Instances      Box(P          R      mAP50  mAP50-95): 100%|██████████| 47/47 [02:38<00:00,  3.37s/it]"
          ]
        },
        {
          "name": "stdout",
          "output_type": "stream",
          "text": [
            "                   all        747        747      0.596      0.912      0.763      0.742\n"
          ]
        },
        {
          "name": "stderr",
          "output_type": "stream",
          "text": [
            "\n"
          ]
        },
        {
          "name": "stdout",
          "output_type": "stream",
          "text": [
            "\n",
            "      Epoch    GPU_mem   box_loss   cls_loss   dfl_loss  Instances       Size\n"
          ]
        },
        {
          "name": "stderr",
          "output_type": "stream",
          "text": [
            "      15/50      4.99G     0.1321     0.7009     0.9171          4        512: 100%|██████████| 374/374 [23:22<00:00,  3.75s/it]\n",
            "                 Class     Images  Instances      Box(P          R      mAP50  mAP50-95): 100%|██████████| 47/47 [01:42<00:00,  2.17s/it]"
          ]
        },
        {
          "name": "stdout",
          "output_type": "stream",
          "text": [
            "                   all        747        747      0.675      0.797       0.74       0.71\n"
          ]
        },
        {
          "name": "stderr",
          "output_type": "stream",
          "text": [
            "\n"
          ]
        },
        {
          "name": "stdout",
          "output_type": "stream",
          "text": [
            "\n",
            "      Epoch    GPU_mem   box_loss   cls_loss   dfl_loss  Instances       Size\n"
          ]
        },
        {
          "name": "stderr",
          "output_type": "stream",
          "text": [
            "      16/50      5.03G     0.1277     0.6828     0.9133          4        512: 100%|██████████| 374/374 [22:46<00:00,  3.65s/it]\n",
            "                 Class     Images  Instances      Box(P          R      mAP50  mAP50-95): 100%|██████████| 47/47 [01:39<00:00,  2.12s/it]"
          ]
        },
        {
          "name": "stdout",
          "output_type": "stream",
          "text": [
            "                   all        747        747      0.509      0.853      0.697      0.691\n"
          ]
        },
        {
          "name": "stderr",
          "output_type": "stream",
          "text": [
            "\n"
          ]
        },
        {
          "name": "stdout",
          "output_type": "stream",
          "text": [
            "\n",
            "      Epoch    GPU_mem   box_loss   cls_loss   dfl_loss  Instances       Size\n"
          ]
        },
        {
          "name": "stderr",
          "output_type": "stream",
          "text": [
            "      17/50      5.05G     0.1268     0.6804     0.9112          4        512: 100%|██████████| 374/374 [22:51<00:00,  3.67s/it]\n",
            "                 Class     Images  Instances      Box(P          R      mAP50  mAP50-95): 100%|██████████| 47/47 [01:45<00:00,  2.25s/it]"
          ]
        },
        {
          "name": "stdout",
          "output_type": "stream",
          "text": [
            "                   all        747        747      0.625      0.894      0.781      0.768\n"
          ]
        },
        {
          "name": "stderr",
          "output_type": "stream",
          "text": [
            "\n"
          ]
        },
        {
          "name": "stdout",
          "output_type": "stream",
          "text": [
            "\n",
            "      Epoch    GPU_mem   box_loss   cls_loss   dfl_loss  Instances       Size\n"
          ]
        },
        {
          "name": "stderr",
          "output_type": "stream",
          "text": [
            "      18/50      5.03G     0.1223     0.6741     0.9102          2        512: 100%|██████████| 374/374 [23:07<00:00,  3.71s/it]\n",
            "                 Class     Images  Instances      Box(P          R      mAP50  mAP50-95): 100%|██████████| 47/47 [01:42<00:00,  2.17s/it]"
          ]
        },
        {
          "name": "stdout",
          "output_type": "stream",
          "text": [
            "                   all        747        747      0.646      0.825      0.765      0.756\n"
          ]
        },
        {
          "name": "stderr",
          "output_type": "stream",
          "text": [
            "\n"
          ]
        },
        {
          "name": "stdout",
          "output_type": "stream",
          "text": [
            "\n",
            "      Epoch    GPU_mem   box_loss   cls_loss   dfl_loss  Instances       Size\n"
          ]
        },
        {
          "name": "stderr",
          "output_type": "stream",
          "text": [
            "      19/50      4.99G     0.1187     0.6683     0.9127          4        512: 100%|██████████| 374/374 [19:50<00:00,  3.18s/it]\n",
            "                 Class     Images  Instances      Box(P          R      mAP50  mAP50-95): 100%|██████████| 47/47 [02:23<00:00,  3.04s/it]"
          ]
        },
        {
          "name": "stdout",
          "output_type": "stream",
          "text": [
            "                   all        747        747      0.665      0.861      0.797       0.79\n"
          ]
        },
        {
          "name": "stderr",
          "output_type": "stream",
          "text": [
            "\n"
          ]
        },
        {
          "name": "stdout",
          "output_type": "stream",
          "text": [
            "\n",
            "      Epoch    GPU_mem   box_loss   cls_loss   dfl_loss  Instances       Size\n"
          ]
        },
        {
          "name": "stderr",
          "output_type": "stream",
          "text": [
            "      20/50      5.05G     0.1178     0.6504     0.9051          4        512: 100%|██████████| 374/374 [21:52<00:00,  3.51s/it]\n",
            "                 Class     Images  Instances      Box(P          R      mAP50  mAP50-95): 100%|██████████| 47/47 [01:50<00:00,  2.35s/it]"
          ]
        },
        {
          "name": "stdout",
          "output_type": "stream",
          "text": [
            "                   all        747        747      0.721      0.867      0.813       0.81\n"
          ]
        },
        {
          "name": "stderr",
          "output_type": "stream",
          "text": [
            "\n"
          ]
        },
        {
          "name": "stdout",
          "output_type": "stream",
          "text": [
            "\n",
            "      Epoch    GPU_mem   box_loss   cls_loss   dfl_loss  Instances       Size\n"
          ]
        },
        {
          "name": "stderr",
          "output_type": "stream",
          "text": [
            "      21/50      5.03G     0.1203     0.6465     0.9195          2        512: 100%|██████████| 374/374 [22:42<00:00,  3.64s/it]\n",
            "                 Class     Images  Instances      Box(P          R      mAP50  mAP50-95): 100%|██████████| 47/47 [01:13<00:00,  1.56s/it]"
          ]
        },
        {
          "name": "stdout",
          "output_type": "stream",
          "text": [
            "                   all        747        747      0.713      0.837      0.832      0.828\n"
          ]
        },
        {
          "name": "stderr",
          "output_type": "stream",
          "text": [
            "\n"
          ]
        },
        {
          "name": "stdout",
          "output_type": "stream",
          "text": [
            "\n",
            "      Epoch    GPU_mem   box_loss   cls_loss   dfl_loss  Instances       Size\n"
          ]
        },
        {
          "name": "stderr",
          "output_type": "stream",
          "text": [
            "      22/50      5.05G     0.1113     0.6187     0.9137          2        512: 100%|██████████| 374/374 [25:35<00:00,  4.10s/it]\n",
            "                 Class     Images  Instances      Box(P          R      mAP50  mAP50-95): 100%|██████████| 47/47 [02:10<00:00,  2.77s/it]"
          ]
        },
        {
          "name": "stdout",
          "output_type": "stream",
          "text": [
            "                   all        747        747      0.736      0.822      0.811      0.804\n"
          ]
        },
        {
          "name": "stderr",
          "output_type": "stream",
          "text": [
            "\n"
          ]
        },
        {
          "name": "stdout",
          "output_type": "stream",
          "text": [
            "\n",
            "      Epoch    GPU_mem   box_loss   cls_loss   dfl_loss  Instances       Size\n"
          ]
        },
        {
          "name": "stderr",
          "output_type": "stream",
          "text": [
            "      23/50      5.01G     0.1132     0.6237     0.9218          1        512: 100%|██████████| 374/374 [22:19<00:00,  3.58s/it]\n",
            "                 Class     Images  Instances      Box(P          R      mAP50  mAP50-95): 100%|██████████| 47/47 [01:35<00:00,  2.03s/it]"
          ]
        },
        {
          "name": "stdout",
          "output_type": "stream",
          "text": [
            "                   all        747        747      0.692      0.838      0.805      0.796\n"
          ]
        },
        {
          "name": "stderr",
          "output_type": "stream",
          "text": [
            "\n"
          ]
        },
        {
          "name": "stdout",
          "output_type": "stream",
          "text": [
            "\n",
            "      Epoch    GPU_mem   box_loss   cls_loss   dfl_loss  Instances       Size\n"
          ]
        },
        {
          "name": "stderr",
          "output_type": "stream",
          "text": [
            "      24/50      5.03G     0.1044     0.6148     0.9014          4        512: 100%|██████████| 374/374 [21:53<00:00,  3.51s/it]\n",
            "                 Class     Images  Instances      Box(P          R      mAP50  mAP50-95): 100%|██████████| 47/47 [01:02<00:00,  1.32s/it]"
          ]
        },
        {
          "name": "stdout",
          "output_type": "stream",
          "text": [
            "                   all        747        747      0.717      0.834        0.8      0.786\n"
          ]
        },
        {
          "name": "stderr",
          "output_type": "stream",
          "text": [
            "\n"
          ]
        },
        {
          "name": "stdout",
          "output_type": "stream",
          "text": [
            "\n",
            "      Epoch    GPU_mem   box_loss   cls_loss   dfl_loss  Instances       Size\n"
          ]
        },
        {
          "name": "stderr",
          "output_type": "stream",
          "text": [
            "      25/50      5.05G    0.09459     0.6056     0.9051          4        512: 100%|██████████| 374/374 [21:49<00:00,  3.50s/it]\n",
            "                 Class     Images  Instances      Box(P          R      mAP50  mAP50-95): 100%|██████████| 47/47 [02:08<00:00,  2.73s/it]"
          ]
        },
        {
          "name": "stdout",
          "output_type": "stream",
          "text": [
            "                   all        747        747      0.673      0.863      0.781      0.778\n"
          ]
        },
        {
          "name": "stderr",
          "output_type": "stream",
          "text": [
            "\n"
          ]
        },
        {
          "name": "stdout",
          "output_type": "stream",
          "text": [
            "\n",
            "      Epoch    GPU_mem   box_loss   cls_loss   dfl_loss  Instances       Size\n"
          ]
        },
        {
          "name": "stderr",
          "output_type": "stream",
          "text": [
            "      26/50      5.03G    0.09385     0.6106     0.9003          1        512: 100%|██████████| 374/374 [22:01<00:00,  3.53s/it]\n",
            "                 Class     Images  Instances      Box(P          R      mAP50  mAP50-95): 100%|██████████| 47/47 [02:40<00:00,  3.42s/it]"
          ]
        },
        {
          "name": "stdout",
          "output_type": "stream",
          "text": [
            "                   all        747        747      0.696      0.853      0.815      0.813\n"
          ]
        },
        {
          "name": "stderr",
          "output_type": "stream",
          "text": [
            "\n"
          ]
        },
        {
          "name": "stdout",
          "output_type": "stream",
          "text": [
            "\n",
            "      Epoch    GPU_mem   box_loss   cls_loss   dfl_loss  Instances       Size\n"
          ]
        },
        {
          "name": "stderr",
          "output_type": "stream",
          "text": [
            "      27/50      4.98G    0.09202     0.5951     0.9004          4        512: 100%|██████████| 374/374 [18:34<00:00,  2.98s/it]\n",
            "                 Class     Images  Instances      Box(P          R      mAP50  mAP50-95): 100%|██████████| 47/47 [02:08<00:00,  2.73s/it]"
          ]
        },
        {
          "name": "stdout",
          "output_type": "stream",
          "text": [
            "                   all        747        747      0.746      0.781      0.783      0.776\n"
          ]
        },
        {
          "name": "stderr",
          "output_type": "stream",
          "text": [
            "\n"
          ]
        },
        {
          "name": "stdout",
          "output_type": "stream",
          "text": [
            "\n",
            "      Epoch    GPU_mem   box_loss   cls_loss   dfl_loss  Instances       Size\n"
          ]
        },
        {
          "name": "stderr",
          "output_type": "stream",
          "text": [
            "      28/50      5.04G    0.09155     0.5791     0.8997          4        512: 100%|██████████| 374/374 [18:58<00:00,  3.05s/it]\n",
            "                 Class     Images  Instances      Box(P          R      mAP50  mAP50-95): 100%|██████████| 47/47 [02:22<00:00,  3.04s/it]"
          ]
        },
        {
          "name": "stdout",
          "output_type": "stream",
          "text": [
            "                   all        747        747      0.667      0.879      0.769      0.768\n"
          ]
        },
        {
          "name": "stderr",
          "output_type": "stream",
          "text": [
            "\n"
          ]
        },
        {
          "name": "stdout",
          "output_type": "stream",
          "text": [
            "\n",
            "      Epoch    GPU_mem   box_loss   cls_loss   dfl_loss  Instances       Size\n"
          ]
        },
        {
          "name": "stderr",
          "output_type": "stream",
          "text": [
            "      29/50      5.05G    0.08878     0.5838     0.9032          3        512: 100%|██████████| 374/374 [22:19<00:00,  3.58s/it]\n",
            "                 Class     Images  Instances      Box(P          R      mAP50  mAP50-95): 100%|██████████| 47/47 [01:28<00:00,  1.88s/it]"
          ]
        },
        {
          "name": "stdout",
          "output_type": "stream",
          "text": [
            "                   all        747        747      0.652      0.858      0.786      0.786\n"
          ]
        },
        {
          "name": "stderr",
          "output_type": "stream",
          "text": [
            "\n"
          ]
        },
        {
          "name": "stdout",
          "output_type": "stream",
          "text": [
            "\n",
            "      Epoch    GPU_mem   box_loss   cls_loss   dfl_loss  Instances       Size\n"
          ]
        },
        {
          "name": "stderr",
          "output_type": "stream",
          "text": [
            "      30/50      5.05G     0.0802     0.5615     0.8969          3        512: 100%|██████████| 374/374 [20:33<00:00,  3.30s/it]\n",
            "                 Class     Images  Instances      Box(P          R      mAP50  mAP50-95): 100%|██████████| 47/47 [01:41<00:00,  2.16s/it]"
          ]
        },
        {
          "name": "stdout",
          "output_type": "stream",
          "text": [
            "                   all        747        747      0.688      0.879       0.81      0.809\n"
          ]
        },
        {
          "name": "stderr",
          "output_type": "stream",
          "text": [
            "\n"
          ]
        },
        {
          "name": "stdout",
          "output_type": "stream",
          "text": [
            "\n",
            "      Epoch    GPU_mem   box_loss   cls_loss   dfl_loss  Instances       Size\n"
          ]
        },
        {
          "name": "stderr",
          "output_type": "stream",
          "text": [
            "      31/50      4.99G    0.08351     0.5642     0.9005          4        512: 100%|██████████| 374/374 [21:10<00:00,  3.40s/it]\n",
            "                 Class     Images  Instances      Box(P          R      mAP50  mAP50-95): 100%|██████████| 47/47 [01:34<00:00,  2.02s/it]"
          ]
        },
        {
          "name": "stdout",
          "output_type": "stream",
          "text": [
            "                   all        747        747      0.716      0.851      0.821      0.821\n"
          ]
        },
        {
          "name": "stderr",
          "output_type": "stream",
          "text": [
            "\n"
          ]
        },
        {
          "name": "stdout",
          "output_type": "stream",
          "text": [
            "\n",
            "      Epoch    GPU_mem   box_loss   cls_loss   dfl_loss  Instances       Size\n"
          ]
        },
        {
          "name": "stderr",
          "output_type": "stream",
          "text": [
            "      32/50      5.05G    0.08073     0.5515     0.8948          2        512: 100%|██████████| 374/374 [23:12<00:00,  3.72s/it]\n",
            "                 Class     Images  Instances      Box(P          R      mAP50  mAP50-95): 100%|██████████| 47/47 [01:20<00:00,  1.71s/it]"
          ]
        },
        {
          "name": "stdout",
          "output_type": "stream",
          "text": [
            "                   all        747        747      0.753      0.831      0.817      0.817\n"
          ]
        },
        {
          "name": "stderr",
          "output_type": "stream",
          "text": [
            "\n"
          ]
        },
        {
          "name": "stdout",
          "output_type": "stream",
          "text": [
            "\n",
            "      Epoch    GPU_mem   box_loss   cls_loss   dfl_loss  Instances       Size\n"
          ]
        },
        {
          "name": "stderr",
          "output_type": "stream",
          "text": [
            "      33/50      5.05G    0.07939     0.5449     0.9016          4        512: 100%|██████████| 374/374 [22:05<00:00,  3.54s/it]\n",
            "                 Class     Images  Instances      Box(P          R      mAP50  mAP50-95): 100%|██████████| 47/47 [01:46<00:00,  2.27s/it]"
          ]
        },
        {
          "name": "stdout",
          "output_type": "stream",
          "text": [
            "                   all        747        747       0.68      0.828      0.811      0.805\n"
          ]
        },
        {
          "name": "stderr",
          "output_type": "stream",
          "text": [
            "\n"
          ]
        },
        {
          "name": "stdout",
          "output_type": "stream",
          "text": [
            "\n",
            "      Epoch    GPU_mem   box_loss   cls_loss   dfl_loss  Instances       Size\n"
          ]
        },
        {
          "name": "stderr",
          "output_type": "stream",
          "text": [
            "      34/50      5.04G        inf     0.5553     0.8935          2        512: 100%|██████████| 374/374 [21:24<00:00,  3.44s/it]\n",
            "                 Class     Images  Instances      Box(P          R      mAP50  mAP50-95): 100%|██████████| 47/47 [02:15<00:00,  2.88s/it]"
          ]
        },
        {
          "name": "stdout",
          "output_type": "stream",
          "text": [
            "                   all        747        747      0.661      0.879      0.803      0.803\n"
          ]
        },
        {
          "name": "stderr",
          "output_type": "stream",
          "text": [
            "\n"
          ]
        },
        {
          "name": "stdout",
          "output_type": "stream",
          "text": [
            "\n",
            "      Epoch    GPU_mem   box_loss   cls_loss   dfl_loss  Instances       Size\n"
          ]
        },
        {
          "name": "stderr",
          "output_type": "stream",
          "text": [
            "      35/50         5G    0.07358     0.5399      0.898          2        512: 100%|██████████| 374/374 [22:09<00:00,  3.55s/it]\n",
            "                 Class     Images  Instances      Box(P          R      mAP50  mAP50-95): 100%|██████████| 47/47 [01:31<00:00,  1.95s/it]"
          ]
        },
        {
          "name": "stdout",
          "output_type": "stream",
          "text": [
            "                   all        747        747      0.722      0.867      0.822      0.812\n"
          ]
        },
        {
          "name": "stderr",
          "output_type": "stream",
          "text": [
            "\n"
          ]
        },
        {
          "name": "stdout",
          "output_type": "stream",
          "text": [
            "\n",
            "      Epoch    GPU_mem   box_loss   cls_loss   dfl_loss  Instances       Size\n"
          ]
        },
        {
          "name": "stderr",
          "output_type": "stream",
          "text": [
            "      36/50      5.05G    0.07036     0.5197     0.8952          2        512: 100%|██████████| 374/374 [20:42<00:00,  3.32s/it]\n",
            "                 Class     Images  Instances      Box(P          R      mAP50  mAP50-95): 100%|██████████| 47/47 [01:17<00:00,  1.64s/it]"
          ]
        },
        {
          "name": "stdout",
          "output_type": "stream",
          "text": [
            "                   all        747        747      0.731      0.881      0.836      0.834\n"
          ]
        },
        {
          "name": "stderr",
          "output_type": "stream",
          "text": [
            "\n"
          ]
        },
        {
          "name": "stdout",
          "output_type": "stream",
          "text": [
            "\n",
            "      Epoch    GPU_mem   box_loss   cls_loss   dfl_loss  Instances       Size\n"
          ]
        },
        {
          "name": "stderr",
          "output_type": "stream",
          "text": [
            "      37/50      5.03G    0.06957      0.511     0.8971          3        512: 100%|██████████| 374/374 [24:36<00:00,  3.95s/it]\n",
            "                 Class     Images  Instances      Box(P          R      mAP50  mAP50-95): 100%|██████████| 47/47 [01:28<00:00,  1.88s/it]"
          ]
        },
        {
          "name": "stdout",
          "output_type": "stream",
          "text": [
            "                   all        747        747      0.727      0.873      0.841      0.841\n"
          ]
        },
        {
          "name": "stderr",
          "output_type": "stream",
          "text": [
            "\n"
          ]
        },
        {
          "name": "stdout",
          "output_type": "stream",
          "text": [
            "\n",
            "      Epoch    GPU_mem   box_loss   cls_loss   dfl_loss  Instances       Size\n"
          ]
        },
        {
          "name": "stderr",
          "output_type": "stream",
          "text": [
            "      38/50      5.04G    0.06816     0.5074     0.9011          2        512: 100%|██████████| 374/374 [22:51<00:00,  3.67s/it]\n",
            "                 Class     Images  Instances      Box(P          R      mAP50  mAP50-95): 100%|██████████| 47/47 [01:43<00:00,  2.20s/it]"
          ]
        },
        {
          "name": "stdout",
          "output_type": "stream",
          "text": [
            "                   all        747        747      0.685      0.869       0.79       0.79\n"
          ]
        },
        {
          "name": "stderr",
          "output_type": "stream",
          "text": [
            "\n"
          ]
        },
        {
          "name": "stdout",
          "output_type": "stream",
          "text": [
            "\n",
            "      Epoch    GPU_mem   box_loss   cls_loss   dfl_loss  Instances       Size\n"
          ]
        },
        {
          "name": "stderr",
          "output_type": "stream",
          "text": [
            "      39/50         5G    0.06717     0.4902     0.8976          4        512: 100%|██████████| 374/374 [18:04<00:00,  2.90s/it]\n",
            "                 Class     Images  Instances      Box(P          R      mAP50  mAP50-95): 100%|██████████| 47/47 [01:28<00:00,  1.88s/it]"
          ]
        },
        {
          "name": "stdout",
          "output_type": "stream",
          "text": [
            "                   all        747        747      0.743      0.832      0.815      0.815\n"
          ]
        },
        {
          "name": "stderr",
          "output_type": "stream",
          "text": [
            "\n"
          ]
        },
        {
          "name": "stdout",
          "output_type": "stream",
          "text": [
            "\n",
            "      Epoch    GPU_mem   box_loss   cls_loss   dfl_loss  Instances       Size\n"
          ]
        },
        {
          "name": "stderr",
          "output_type": "stream",
          "text": [
            "      40/50      5.02G     0.0657     0.5002     0.8992          4        512: 100%|██████████| 374/374 [19:56<00:00,  3.20s/it]\n",
            "                 Class     Images  Instances      Box(P          R      mAP50  mAP50-95): 100%|██████████| 47/47 [01:56<00:00,  2.48s/it]"
          ]
        },
        {
          "name": "stdout",
          "output_type": "stream",
          "text": [
            "                   all        747        747      0.722      0.858      0.822      0.821\n"
          ]
        },
        {
          "name": "stderr",
          "output_type": "stream",
          "text": [
            "\n"
          ]
        },
        {
          "name": "stdout",
          "output_type": "stream",
          "text": [
            "Closing dataloader mosaic\n",
            "\n",
            "      Epoch    GPU_mem   box_loss   cls_loss   dfl_loss  Instances       Size\n"
          ]
        },
        {
          "name": "stderr",
          "output_type": "stream",
          "text": [
            "      41/50      5.05G    0.03769     0.3954     0.8989          1        512: 100%|██████████| 374/374 [26:35<00:00,  4.27s/it]\n",
            "                 Class     Images  Instances      Box(P          R      mAP50  mAP50-95): 100%|██████████| 47/47 [02:06<00:00,  2.69s/it]"
          ]
        },
        {
          "name": "stdout",
          "output_type": "stream",
          "text": [
            "                   all        747        747      0.654      0.889      0.816      0.816\n"
          ]
        },
        {
          "name": "stderr",
          "output_type": "stream",
          "text": [
            "\n"
          ]
        },
        {
          "name": "stdout",
          "output_type": "stream",
          "text": [
            "\n",
            "      Epoch    GPU_mem   box_loss   cls_loss   dfl_loss  Instances       Size\n"
          ]
        },
        {
          "name": "stderr",
          "output_type": "stream",
          "text": [
            "      42/50      5.03G    0.02931     0.3356     0.9024          1        512: 100%|██████████| 374/374 [21:38<00:00,  3.47s/it]\n",
            "                 Class     Images  Instances      Box(P          R      mAP50  mAP50-95): 100%|██████████| 47/47 [01:38<00:00,  2.10s/it]"
          ]
        },
        {
          "name": "stdout",
          "output_type": "stream",
          "text": [
            "                   all        747        747      0.768      0.854      0.852      0.852\n"
          ]
        },
        {
          "name": "stderr",
          "output_type": "stream",
          "text": [
            "\n"
          ]
        },
        {
          "name": "stdout",
          "output_type": "stream",
          "text": [
            "\n",
            "      Epoch    GPU_mem   box_loss   cls_loss   dfl_loss  Instances       Size\n"
          ]
        },
        {
          "name": "stderr",
          "output_type": "stream",
          "text": [
            "      43/50         5G    0.02751     0.3234     0.8964          1        512: 100%|██████████| 374/374 [23:00<00:00,  3.69s/it]\n",
            "                 Class     Images  Instances      Box(P          R      mAP50  mAP50-95): 100%|██████████| 47/47 [01:47<00:00,  2.28s/it]"
          ]
        },
        {
          "name": "stdout",
          "output_type": "stream",
          "text": [
            "                   all        747        747       0.76      0.887      0.855      0.855\n"
          ]
        },
        {
          "name": "stderr",
          "output_type": "stream",
          "text": [
            "\n"
          ]
        },
        {
          "name": "stdout",
          "output_type": "stream",
          "text": [
            "\n",
            "      Epoch    GPU_mem   box_loss   cls_loss   dfl_loss  Instances       Size\n"
          ]
        },
        {
          "name": "stderr",
          "output_type": "stream",
          "text": [
            "      44/50      5.04G    0.02619      0.278     0.8992          1        512: 100%|██████████| 374/374 [25:22<00:00,  4.07s/it]\n",
            "                 Class     Images  Instances      Box(P          R      mAP50  mAP50-95): 100%|██████████| 47/47 [01:21<00:00,  1.73s/it]"
          ]
        },
        {
          "name": "stdout",
          "output_type": "stream",
          "text": [
            "                   all        747        747      0.795      0.846      0.852      0.852\n"
          ]
        },
        {
          "name": "stderr",
          "output_type": "stream",
          "text": [
            "\n"
          ]
        },
        {
          "name": "stdout",
          "output_type": "stream",
          "text": [
            "\n",
            "      Epoch    GPU_mem   box_loss   cls_loss   dfl_loss  Instances       Size\n"
          ]
        },
        {
          "name": "stderr",
          "output_type": "stream",
          "text": [
            "      45/50      5.05G    0.02399     0.2587     0.8998          1        512: 100%|██████████| 374/374 [22:03<00:00,  3.54s/it]\n",
            "                 Class     Images  Instances      Box(P          R      mAP50  mAP50-95): 100%|██████████| 47/47 [01:44<00:00,  2.22s/it]"
          ]
        },
        {
          "name": "stdout",
          "output_type": "stream",
          "text": [
            "                   all        747        747      0.737      0.915      0.852      0.852\n"
          ]
        },
        {
          "name": "stderr",
          "output_type": "stream",
          "text": [
            "\n"
          ]
        },
        {
          "name": "stdout",
          "output_type": "stream",
          "text": [
            "\n",
            "      Epoch    GPU_mem   box_loss   cls_loss   dfl_loss  Instances       Size\n"
          ]
        },
        {
          "name": "stderr",
          "output_type": "stream",
          "text": [
            "      46/50      5.05G    0.02242       0.25     0.8972          1        512: 100%|██████████| 374/374 [22:40<00:00,  3.64s/it]\n",
            "                 Class     Images  Instances      Box(P          R      mAP50  mAP50-95): 100%|██████████| 47/47 [01:55<00:00,  2.45s/it]"
          ]
        },
        {
          "name": "stdout",
          "output_type": "stream",
          "text": [
            "                   all        747        747      0.759      0.862      0.858      0.858\n"
          ]
        },
        {
          "name": "stderr",
          "output_type": "stream",
          "text": [
            "\n"
          ]
        },
        {
          "name": "stdout",
          "output_type": "stream",
          "text": [
            "\n",
            "      Epoch    GPU_mem   box_loss   cls_loss   dfl_loss  Instances       Size\n"
          ]
        },
        {
          "name": "stderr",
          "output_type": "stream",
          "text": [
            "      47/50      4.99G    0.02095     0.2266      0.893          1        512: 100%|██████████| 374/374 [20:39<00:00,  3.31s/it]\n",
            "                 Class     Images  Instances      Box(P          R      mAP50  mAP50-95): 100%|██████████| 47/47 [01:48<00:00,  2.32s/it]"
          ]
        },
        {
          "name": "stdout",
          "output_type": "stream",
          "text": [
            "                   all        747        747      0.743      0.888      0.856      0.856\n"
          ]
        },
        {
          "name": "stderr",
          "output_type": "stream",
          "text": [
            "\n"
          ]
        },
        {
          "name": "stdout",
          "output_type": "stream",
          "text": [
            "\n",
            "      Epoch    GPU_mem   box_loss   cls_loss   dfl_loss  Instances       Size\n"
          ]
        },
        {
          "name": "stderr",
          "output_type": "stream",
          "text": [
            "      48/50      5.05G    0.01967     0.2198     0.8956          1        512: 100%|██████████| 374/374 [25:30<00:00,  4.09s/it]\n",
            "                 Class     Images  Instances      Box(P          R      mAP50  mAP50-95): 100%|██████████| 47/47 [03:01<00:00,  3.86s/it]"
          ]
        },
        {
          "name": "stdout",
          "output_type": "stream",
          "text": [
            "                   all        747        747      0.749      0.856      0.849      0.849\n"
          ]
        },
        {
          "name": "stderr",
          "output_type": "stream",
          "text": [
            "\n"
          ]
        },
        {
          "name": "stdout",
          "output_type": "stream",
          "text": [
            "\n",
            "      Epoch    GPU_mem   box_loss   cls_loss   dfl_loss  Instances       Size\n"
          ]
        },
        {
          "name": "stderr",
          "output_type": "stream",
          "text": [
            "      49/50      5.04G    0.01881     0.1847     0.8907          1        512: 100%|██████████| 374/374 [27:00<00:00,  4.33s/it]\n",
            "                 Class     Images  Instances      Box(P          R      mAP50  mAP50-95): 100%|██████████| 47/47 [01:43<00:00,  2.19s/it]"
          ]
        },
        {
          "name": "stdout",
          "output_type": "stream",
          "text": [
            "                   all        747        747      0.775       0.87      0.855      0.855\n"
          ]
        },
        {
          "name": "stderr",
          "output_type": "stream",
          "text": [
            "\n"
          ]
        },
        {
          "name": "stdout",
          "output_type": "stream",
          "text": [
            "\n",
            "      Epoch    GPU_mem   box_loss   cls_loss   dfl_loss  Instances       Size\n"
          ]
        },
        {
          "name": "stderr",
          "output_type": "stream",
          "text": [
            "      50/50      5.06G    0.01661     0.1704     0.8974          1        512: 100%|██████████| 374/374 [26:44<00:00,  4.29s/it]\n",
            "                 Class     Images  Instances      Box(P          R      mAP50  mAP50-95): 100%|██████████| 47/47 [02:28<00:00,  3.17s/it]"
          ]
        },
        {
          "name": "stdout",
          "output_type": "stream",
          "text": [
            "                   all        747        747      0.755       0.88      0.858      0.858\n"
          ]
        },
        {
          "name": "stderr",
          "output_type": "stream",
          "text": [
            "\n"
          ]
        },
        {
          "name": "stdout",
          "output_type": "stream",
          "text": [
            "\n",
            "50 epochs completed in 20.903 hours.\n",
            "Optimizer stripped from runs\\detect\\YOLO12l_detection\\weights\\last.pt, 53.5MB\n",
            "Optimizer stripped from runs\\detect\\YOLO12l_detection\\weights\\best.pt, 53.5MB\n",
            "\n",
            "Validating runs\\detect\\YOLO12l_detection\\weights\\best.pt...\n",
            "Ultralytics 8.3.123  Python-3.12.1 torch-2.5.0+cu124 CUDA:0 (NVIDIA GeForce RTX 2050, 4096MiB)\n",
            "YOLOv12l summary (fused): 283 layers, 26,342,156 parameters, 0 gradients, 88.6 GFLOPs\n"
          ]
        },
        {
          "name": "stderr",
          "output_type": "stream",
          "text": [
            "                 Class     Images  Instances      Box(P          R      mAP50  mAP50-95): 100%|██████████| 47/47 [00:24<00:00,  1.94it/s]\n"
          ]
        },
        {
          "name": "stdout",
          "output_type": "stream",
          "text": [
            "                   all        747        747      0.758      0.861      0.858      0.858\n",
            "        healthy spiral        112        112      0.496      0.768      0.601      0.601\n",
            "          healthy wave        198        198      0.849      0.955      0.963      0.963\n",
            "      parkinson spiral        285        285      0.827      0.822      0.924      0.924\n",
            "        parkinson wave        152        152      0.862      0.901      0.945      0.945\n",
            "Speed: 0.3ms preprocess, 28.3ms inference, 0.0ms loss, 1.1ms postprocess per image\n",
            "Results saved to \u001b[1mruns\\detect\\YOLO12l_detection\u001b[0m\n",
            "Model and results saved to: ./results\n"
          ]
        }
      ],
      "source": [
        "# Metrics storage\n",
        "metrics = {}\n",
        "\n",
        "# Remmeber to change the batch !!!!!!!!!!!!!!!!!!!!!!!!!!!!!!!!!!!!!!!!!!!!!!!\n",
        "# batch01 = 4 # Reccomended Low for 2050 RTX 4GB YOLOv3\n",
        "batch01 = 8 # Reccomended High for 2050 RTX 4GB\n",
        "# batch01 = 12 # High for 2050 RTX 4GB\n",
        "\n",
        "# Model to train and evaluate\n",
        "model_name = \"YOLO12l\"       # Change this to the model you want to train (e.g., YOLOv4, YOLOv5x)\n",
        "model_path = \"yolo12l.pt\"    # Pretrained model path for YOLOv3 (update as needed)\n",
        "\n",
        "# Generate unique directory name based on model and current time\n",
        "current_time = datetime.now().strftime(\"%Y-%m-%d_%H-%M-%S\")\n",
        "results_dirs = os.path.join(results_dir, f\"{current_time}, {model_name} with E-B {epoch}-{batch01}\")\n",
        "os.makedirs(results_dirs, exist_ok=True)  # Create the directory if it doesn't exist\n",
        "\n",
        "# Train and Evaluate the Model\n",
        "print(f\"\\nTraining and evaluating {model_name}...\")\n",
        "\n",
        "# Start time tracking\n",
        "start_time = time.time()\n",
        "\n",
        "# Train the model\n",
        "model = YOLO(model_path)  # Load pre-trained model\n",
        "model.train(\n",
        "    task=\"detect\",\n",
        "    data=yaml_path,\n",
        "    epochs=epoch,  # Set epochs for quick testing; increase for better results\n",
        "    imgsz=imagesize,\n",
        "    batch=batch01,  # Adjust to fit your GPU memory\n",
        "    name=f\"{model_name}_detection\",\n",
        "    save_dir=os.path.join(results_dirs, model_name)\n",
        ")\n",
        "# End time tracking\n",
        "end_time = time.time()\n",
        "training_duration_hours = (end_time - start_time) / 3600  # Convert seconds to hours\n",
        "print(f\"Model and results saved to: {results_dir}\")"
      ]
    },
    {
      "cell_type": "code",
      "execution_count": 9,
      "metadata": {
        "id": "C7HEDvXImUum"
      },
      "outputs": [
        {
          "name": "stdout",
          "output_type": "stream",
          "text": [
            "Results successfully moved to: ./results\\2025-05-08_14-35-25, YOLO12l with E-B 50-8\\YOLO12l\n"
          ]
        }
      ],
      "source": [
        "import shutil\n",
        "\n",
        "source_dir = f\"runs/detect/\"\n",
        "destination_dir = os.path.join(results_dirs, model_name)\n",
        "\n",
        "# Move the directory\n",
        "if os.path.exists(source_dir):\n",
        "    shutil.move(source_dir, destination_dir)\n",
        "    print(f\"Results successfully moved to: {destination_dir}\")\n",
        "else:\n",
        "    print(f\"Source directory not found: {source_dir}\")"
      ]
    },
    {
      "cell_type": "code",
      "execution_count": 10,
      "metadata": {
        "id": "nl3JAzzyfRfs"
      },
      "outputs": [
        {
          "name": "stdout",
          "output_type": "stream",
          "text": [
            "Ultralytics 8.3.123  Python-3.12.1 torch-2.5.0+cu124 CUDA:0 (NVIDIA GeForce RTX 2050, 4096MiB)\n",
            "YOLOv12l summary (fused): 283 layers, 26,342,156 parameters, 0 gradients, 88.6 GFLOPs\n",
            "\u001b[34m\u001b[1mval: \u001b[0mFast image access  (ping: 0.10.0 ms, read: 742.8726.7 MB/s, size: 109.0 KB)\n"
          ]
        },
        {
          "name": "stderr",
          "output_type": "stream",
          "text": [
            "\u001b[34m\u001b[1mval: \u001b[0mScanning C:\\Users\\Pongo\\OneDrive\\Documents\\~Cornel\\~Ideas n Innovation\\Project\\25-4-22 -- Parkinson Unika\\Dataset\\YOLODatasetFull\\labels\\val.cache... 747 images, 0 backgrounds, 0 corrupt: 100%|██████████| 747/747 [00:00<?, ?it/s]\n",
            "                 Class     Images  Instances      Box(P          R      mAP50  mAP50-95): 100%|██████████| 94/94 [00:37<00:00,  2.50it/s]\n"
          ]
        },
        {
          "name": "stdout",
          "output_type": "stream",
          "text": [
            "                   all        747        747      0.759      0.859      0.858      0.858\n",
            "        healthy spiral        112        112      0.495      0.759      0.599      0.599\n",
            "          healthy wave        198        198      0.849      0.955      0.963      0.963\n",
            "      parkinson spiral        285        285       0.83       0.82      0.924      0.924\n",
            "        parkinson wave        152        152      0.864      0.901      0.946      0.946\n",
            "Speed: 0.3ms preprocess, 46.4ms inference, 0.0ms loss, 0.9ms postprocess per image\n",
            "Results saved to \u001b[1mruns\\detect\\YOLO12l_detection\u001b[0m\n",
            "\n",
            "Metrics:\n",
            "Model: YOLO12l\n",
            "Validation Time: 2025-05-09 11-32-44\n",
            "\n",
            "Training Duration: 20.936 hours for 50 epochs\n",
            "\n",
            "AP50: 0.8580\n",
            "AP: 0.8580\n",
            "Precision: 0.7594\n",
            "Recall: 0.8588\n",
            "F1-Score: [0.5990, 0.8989, 0.8250, 0.8822]\n",
            "\n",
            "Metrics saved to c:\\Users\\Pongo\\OneDrive\\Documents\\~Cornel\\~Ideas n Innovation\\Project\\25-4-22 -- Parkinson Unika\\results\\Metrics\\metrics_YOLO12l_2025-05-09_11-32-44.txt\n",
            "Validation plots saved to c:\\Users\\Pongo\\OneDrive\\Documents\\~Cornel\\~Ideas n Innovation\\Project\\25-4-22 -- Parkinson Unika\\results\\Validation_Plots\n"
          ]
        }
      ],
      "source": [
        "import os\n",
        "import numpy as np\n",
        "from datetime import datetime\n",
        "\n",
        "# Define base local path\n",
        "local_base_path = os.getcwd()  # or set your own path: e.g., \"D:/YOLOProject\"\n",
        "results_dirs = os.path.join(local_base_path, \"results\")\n",
        "os.makedirs(results_dirs, exist_ok=True)\n",
        "\n",
        "# Validate the model\n",
        "val_results = model.val()\n",
        "\n",
        "# Create a subfolder for metrics\n",
        "output_dir = os.path.join(results_dirs, \"Metrics\")\n",
        "os.makedirs(output_dir, exist_ok=True)\n",
        "\n",
        "# Collect metrics\n",
        "metrics = {\n",
        "    \"AP50\": val_results.box.map50,         # Mean AP at IoU=0.50\n",
        "    \"AP\": val_results.box.map,            # Mean AP at IoU=0.50:0.95\n",
        "    \"Precision\": val_results.box.mp,      # Mean Precision\n",
        "    \"Recall\": val_results.box.mr,         # Mean Recall\n",
        "    \"F1-Score\": val_results.box.f1,       # F1 score (list per class, optional)\n",
        "}\n",
        "\n",
        "# Create timestamp and model name manually if not already defined\n",
        "current_time = datetime.now().strftime(\"%Y-%m-%d_%H-%M-%S\")\n",
        "date_now = datetime.now().strftime(\"%Y-%m-%d\")\n",
        "# model_name = model.model.cfg if hasattr(model.model, 'cfg') else \"yolov8_model\"\n",
        "\n",
        "# Save metrics to a file with header\n",
        "metrics_file_path = os.path.join(output_dir, f\"metrics_{model_name}_{current_time}.txt\")\n",
        "with open(metrics_file_path, \"w\") as f:\n",
        "    f.write(f\"Model: {model_name}\\n\")\n",
        "    f.write(f\"Validation Time: {current_time.replace('_', ' ')}\\n\\n\")\n",
        "    f.write(f\"Training Duration: {training_duration_hours:.3f} hours for {epoch} epochs\\n\\n\")  # <-- This line\n",
        "\n",
        "    for metric, value in metrics.items():\n",
        "        if isinstance(value, (list, np.ndarray)):\n",
        "            value_str = \", \".join(f\"{v:.4f}\" for v in value)\n",
        "            line = f\"{metric}: [{value_str}]\"\n",
        "        else:\n",
        "            line = f\"{metric}: {value:.4f}\"\n",
        "        f.write(line + \"\\n\")\n",
        "\n",
        "# Display metrics in console\n",
        "print(\"\\nMetrics:\")\n",
        "with open(metrics_file_path, \"r\") as f:\n",
        "    print(f.read())\n",
        "\n",
        "print(f\"Metrics saved to {metrics_file_path}\")\n",
        "\n",
        "# Save validation plots manually\n",
        "results_dir = val_results.save_dir\n",
        "if os.path.exists(results_dir):\n",
        "    destination_dir = os.path.join(results_dirs, \"Validation_Plots\")\n",
        "    os.makedirs(destination_dir, exist_ok=True)\n",
        "    os.system(f\"cp -r \\\"{results_dir}\\\" \\\"{destination_dir}\\\"\")\n",
        "    print(f\"Validation plots saved to {destination_dir}\")\n",
        "else:\n",
        "    print(\"Validation results directory not found.\")\n"
      ]
    }
  ],
  "metadata": {
    "accelerator": "GPU",
    "colab": {
      "gpuType": "T4",
      "provenance": []
    },
    "kernelspec": {
      "display_name": "Python 3",
      "name": "python3"
    },
    "language_info": {
      "codemirror_mode": {
        "name": "ipython",
        "version": 3
      },
      "file_extension": ".py",
      "mimetype": "text/x-python",
      "name": "python",
      "nbconvert_exporter": "python",
      "pygments_lexer": "ipython3",
      "version": "3.12.1"
    }
  },
  "nbformat": 4,
  "nbformat_minor": 0
}
